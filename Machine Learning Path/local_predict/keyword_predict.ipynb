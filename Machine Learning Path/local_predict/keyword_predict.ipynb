{
  "nbformat": 4,
  "nbformat_minor": 0,
  "metadata": {
    "colab": {
      "name": "keyword_predict.ipynb",
      "private_outputs": true,
      "provenance": []
    },
    "kernelspec": {
      "name": "python3",
      "display_name": "Python 3"
    },
    "language_info": {
      "name": "python"
    }
  },
  "cells": [
    {
      "cell_type": "code",
      "metadata": {
        "id": "GhZ_hXfXK1yZ"
      },
      "source": [
        "import librosa\n",
        "import tensorflow as tf\n",
        "import numpy as np"
      ],
      "execution_count": null,
      "outputs": []
    },
    {
      "cell_type": "code",
      "metadata": {
        "id": "vPy_ZrklK5CW"
      },
      "source": [
        "SAVED_MODEL_PATH = tf.keras.utils.get_file('favi_model_v2.h5', \n",
        "                                           \"https://storage.googleapis.com/financial_speech_dataset_id/favi_model_v2.h5\")\n",
        "SAMPLES_TO_CONSIDER = 16000"
      ],
      "execution_count": null,
      "outputs": []
    },
    {
      "cell_type": "code",
      "metadata": {
        "id": "cYYzVi8AWdcy"
      },
      "source": [
        "class _keyword_prediction:\n",
        "\n",
        "    model = None\n",
        "    _mapping = [\"sembilan\", \"tiga\", \"tujuh\", \"satu\", \"delapan\", \"enam\",\n",
        "                \"tambah\", \"transfer\", \"lima\", \"empat\", \"nol\", \"dua\"\n",
        "                ]\n",
        "    _instance = None\n",
        "\n",
        "\n",
        "    def predict(self, file_path):\n",
        "      #extract MFCC\n",
        "      MFCCs = self.preprocess(file_path)\n",
        "\n",
        "      #add 4-dim array: samples, time steps, coefficients, 1\n",
        "      MFCCs = MFCCs[np.newaxis, ..., np.newaxis]\n",
        "\n",
        "      #get the predicted label\n",
        "      predictions = self.model.predict(MFCCs)\n",
        "      predicted_index = np.argmax(predictions)\n",
        "      predicted_keyword = self._mapping[predicted_index]\n",
        "      return predicted_keyword\n",
        "\n",
        "\n",
        "    def preprocess(self, file_path, num_mfcc=13, n_fft=2048, hop_length=512):\n",
        "\n",
        "      #load audio file\n",
        "      signal, sample_rate = librosa.load(file_path)\n",
        "\n",
        "      if len(signal) >= SAMPLES_TO_CONSIDER:\n",
        "        #ensure consistency of the length of the signal\n",
        "        signal = signal[:SAMPLES_TO_CONSIDER]\n",
        "\n",
        "        #extract MFCCs\n",
        "        MFCCs = librosa.feature.mfcc(signal, sample_rate, n_mfcc=num_mfcc, n_fft=n_fft,\n",
        "                                     hop_length=hop_length)\n",
        "      return MFCCs.T"
      ],
      "execution_count": null,
      "outputs": []
    },
    {
      "cell_type": "code",
      "metadata": {
        "id": "uunTVgMhK_No"
      },
      "source": [
        "def keyword_prediction():\n",
        "  #ensure an instance is created only the first time the factory function is called\n",
        "  if _keyword_prediction._instance is None:\n",
        "    _keyword_prediction._instance = _keyword_prediction()\n",
        "    _keyword_prediction.model = tf.keras.models.load_model(SAVED_MODEL_PATH)\n",
        "  return _keyword_prediction._instance"
      ],
      "execution_count": null,
      "outputs": []
    },
    {
      "cell_type": "code",
      "metadata": {
        "id": "IOLgYvjs3YAk"
      },
      "source": [
        "if __name__ == \"__main__\":\n",
        "\n",
        "  kp = keyword_prediction()\n",
        "\n",
        "  #make a prediction\n",
        "  keyword0 = kp.predict(\"tujuh1.wav\")\n",
        "  keyword1 = kp.predict(\"tujuh2.wav\")\n",
        "  keyword2 = kp.predict(\"tujuh3.wav\")\n",
        "  keyword3 = kp.predict(\"dua4.wav\")\n",
        "  keyword4 = kp.predict(\"dua5.wav\")\n",
        "  keyword5 = kp.predict(\"satu1.wav\")\n",
        "  keyword6 = kp.predict(\"satu2.wav\")\n",
        "  keyword7 = kp.predict(\"satu3.wav\")\n",
        "  keyword8 = kp.predict(\"satu4.wav\")\n",
        "  keyword9 = kp.predict(\"satu5.wav\")\n",
        "\n",
        "  print(f'prediction: \\n{keyword0} \\n{keyword1} \\n{keyword2} \\n{keyword3} \\n{keyword4} \\n{keyword5} \\n{keyword6} \\n{keyword7} \\n{keyword8} \\n{keyword9}')"
      ],
      "execution_count": null,
      "outputs": []
    }
  ]
}