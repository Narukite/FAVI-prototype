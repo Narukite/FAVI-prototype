{
  "nbformat": 4,
  "nbformat_minor": 0,
  "metadata": {
    "colab": {
      "name": "preparing dataset.ipynb",
      "private_outputs": true,
      "provenance": []
    },
    "kernelspec": {
      "name": "python3",
      "display_name": "Python 3"
    },
    "language_info": {
      "name": "python"
    }
  },
  "cells": [
    {
      "cell_type": "code",
      "metadata": {
        "id": "kxZhkRnxaPgS"
      },
      "source": [
        "import os\n",
        "import pathlib\n",
        "import tensorflow as tf\n",
        "\n",
        "import librosa\n",
        "import os\n",
        "import json"
      ],
      "execution_count": null,
      "outputs": []
    },
    {
      "cell_type": "code",
      "metadata": {
        "id": "5f6z-jX4a8oK"
      },
      "source": [
        "data_dir = pathlib.Path('data/favi_speech_dataset_v02')\n",
        "if not data_dir.exists():\n",
        "  tf.keras.utils.get_file(\n",
        "      'favi_speech_dataset_v02.zip',\n",
        "      origin=\"https://storage.googleapis.com/financial_speech_dataset_id/data/favi_speech_dataset_v02.zip\",\n",
        "      extract=True,\n",
        "      cache_dir='.', cache_subdir='data')"
      ],
      "execution_count": null,
      "outputs": []
    },
    {
      "cell_type": "code",
      "metadata": {
        "id": "ZvYANocEaReA"
      },
      "source": [
        "DATASET_PATH = data_dir\n",
        "JSON_PATH = \"favi_dataset02.json\"\n",
        "SAMPLES_TO_CONSIDER = 16000 # /one second audio file"
      ],
      "execution_count": null,
      "outputs": []
    },
    {
      "cell_type": "code",
      "metadata": {
        "id": "g5q7I9v_Z06r"
      },
      "source": [
        "def preprocess_dataset(dataset_path, json_path, num_mfcc=13, n_fft=2048, hop_length=512):\n",
        "\n",
        "    #dictionary of the dataset\n",
        "    data = {\n",
        "        \"mapping\": [],\n",
        "        \"labels\": [],\n",
        "        \"MFCCs\": [],\n",
        "        \"files\": []\n",
        "    }\n",
        "\n",
        "    #loop through all sub-dirs\n",
        "    for i, (dirpath, dirnames, filenames) in enumerate(os.walk(dataset_path)):\n",
        "\n",
        "        if dirpath is not dataset_path:\n",
        "\n",
        "            #save label in the mapping\n",
        "            label = dirpath.split(\"/\")[-1]\n",
        "            data[\"mapping\"].append(label)\n",
        "            print(\"\\nProcessing: '{}'\".format(label))\n",
        "\n",
        "            #process all audio files in sub-dir and store MFCCs\n",
        "            for f in filenames:\n",
        "                file_path = os.path.join(dirpath, f)\n",
        "\n",
        "                #load audio file and slice it to ensure length consistency among different files\n",
        "                signal, sample_rate = librosa.load(file_path)\n",
        "\n",
        "                #drop audio files with less than pre-decided number of samples\n",
        "                if len(signal) >= SAMPLES_TO_CONSIDER:\n",
        "\n",
        "                    # ensure consistency of the length of the signal\n",
        "                    signal = signal[:SAMPLES_TO_CONSIDER]\n",
        "\n",
        "                    # extract MFCCs feature\n",
        "                    MFCCs = librosa.feature.mfcc(signal, sample_rate, n_mfcc=num_mfcc, n_fft=n_fft,\n",
        "                                                 hop_length=hop_length)\n",
        "\n",
        "                    # store data for analysed track\n",
        "                    data[\"MFCCs\"].append(MFCCs.T.tolist())\n",
        "                    data[\"labels\"].append(i-1)\n",
        "                    data[\"files\"].append(file_path)\n",
        "                    print(\"{}: {}\".format(file_path, i-1))\n",
        "\n",
        "    # save data in json file\n",
        "    with open(json_path, \"w\") as fp:\n",
        "        json.dump(data, fp, indent=4)"
      ],
      "execution_count": null,
      "outputs": []
    },
    {
      "cell_type": "code",
      "metadata": {
        "id": "GqfqhJpxuOqC"
      },
      "source": [
        "if __name__ == \"__main__\":\n",
        "    preprocess_dataset(DATASET_PATH, JSON_PATH)"
      ],
      "execution_count": null,
      "outputs": []
    },
    {
      "cell_type": "code",
      "metadata": {
        "id": "NaONn49FdMlv"
      },
      "source": [
        "from google.colab import files\n",
        "files.download('favi_dataset02.json')"
      ],
      "execution_count": null,
      "outputs": []
    }
  ]
}